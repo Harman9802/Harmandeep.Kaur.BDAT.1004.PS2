{
 "cells": [
  {
   "cell_type": "markdown",
   "id": "58a50ab3",
   "metadata": {},
   "source": [
    "# Problem set 2 "
   ]
  },
  {
   "cell_type": "markdown",
   "id": "0dab9b23",
   "metadata": {},
   "source": [
    "Question 1"
   ]
  },
  {
   "cell_type": "code",
   "execution_count": 1,
   "id": "368c7b8b",
   "metadata": {},
   "outputs": [
    {
     "data": {
      "text/plain": [
       "6"
      ]
     },
     "execution_count": 1,
     "metadata": {},
     "output_type": "execute_result"
    }
   ],
   "source": [
    "a = 0\n",
    "\n",
    "def b():\n",
    "    global a\n",
    "    a = c(a)\n",
    "    \n",
    "def c(a):\n",
    "    return a + 2\n",
    "\n",
    "b()\n",
    "b()\n",
    "b()\n",
    "a"
   ]
  },
  {
   "cell_type": "markdown",
   "id": "5deb7d2d",
   "metadata": {},
   "source": [
    "Each time 2 is added. b() then a is 0 + 2 = 2. b() then a is 2 + 2 = 4. b() then a is 4 + 2 = 6. then a = 6"
   ]
  },
  {
   "cell_type": "markdown",
   "id": "69d99e03",
   "metadata": {},
   "source": [
    "Question 2"
   ]
  },
  {
   "cell_type": "code",
   "execution_count": 3,
   "id": "3ba4e491",
   "metadata": {},
   "outputs": [
    {
     "name": "stdout",
     "output_type": "stream",
     "text": [
      "123\n",
      "File idterm.py not found.\n"
     ]
    }
   ],
   "source": [
    "def fileLength(filename):\n",
    "    try:\n",
    "        infile = open(filename, 'r')\n",
    "        contents = infile.read()\n",
    "        infile.close()\n",
    "        return len(contents)\n",
    "    except FileNotFoundError:\n",
    "        return (\"File {} not found.\".format(filename))\n",
    "\n",
    "print(fileLength('midterm.py'))\n",
    "\n",
    "print(fileLength('idterm.py'))"
   ]
  },
  {
   "cell_type": "markdown",
   "id": "7ca51188",
   "metadata": {},
   "source": [
    "Question 3"
   ]
  },
  {
   "cell_type": "code",
   "execution_count": 4,
   "id": "5a9ecf31",
   "metadata": {},
   "outputs": [
    {
     "name": "stdout",
     "output_type": "stream",
     "text": [
      "I am a Kangaroo located at coordinates (0,0)\n",
      "['doll', 'firetruck', 'kitten']\n",
      "I am a Kangaroo located at coordinates (3,0)\n"
     ]
    }
   ],
   "source": [
    "class Marsupial:\n",
    "   \n",
    "    def __init__(self):\n",
    "        self.lst=[]\n",
    "        \n",
    "    def put_in_pouch(self,x):\n",
    "        self.lst.append(x)\n",
    "    \n",
    "    def pouch_contents(self):\n",
    "        return (self.lst)\n",
    "    \n",
    "class Kangaroo(Marsupial):\n",
    "    \n",
    "    def __init__(self,x,y):\n",
    "    \n",
    "        Marsupial.__init__(self)\n",
    "        self.x=x\n",
    "        self.y=y\n",
    "        \n",
    "    def jump(self,dx,dy):\n",
    "        self.x+=dx\n",
    "        self.x+=dy\n",
    "    \n",
    "    def __str__(self):\n",
    "        return \"I am a Kangaroo located at coordinates (\"+str(self.x)+\",\"+str(self.y)+\")\"\n",
    "    \n",
    "k = Kangaroo(0,0)\n",
    "\n",
    "print(k)\n",
    "\n",
    "k.put_in_pouch('doll')\n",
    "k.put_in_pouch('firetruck')\n",
    "k.put_in_pouch('kitten')\n",
    "print(k.pouch_contents())\n",
    "\n",
    "k.jump(1,0)\n",
    "k.jump(1,0)\n",
    "k.jump(1,0)\n",
    "print(k)"
   ]
  },
  {
   "cell_type": "markdown",
   "id": "0d77ccb9",
   "metadata": {},
   "source": [
    "Question 4"
   ]
  },
  {
   "cell_type": "code",
   "execution_count": 5,
   "id": "201b944e",
   "metadata": {},
   "outputs": [
    {
     "name": "stdout",
     "output_type": "stream",
     "text": [
      "10\n",
      "5\n",
      "16\n",
      "8\n",
      "4\n",
      "2\n",
      "1\n"
     ]
    }
   ],
   "source": [
    "def collatz(x):\n",
    "    print(x)\n",
    "    \n",
    "    if x == 1:\n",
    "        return\n",
    "    elif x % 2 == 0:\n",
    "        collatz(x // 2)\n",
    "    else:\n",
    "        collatz(3 * x + 1)\n",
    "\n",
    "collatz(10)"
   ]
  },
  {
   "cell_type": "markdown",
   "id": "8dc14665",
   "metadata": {},
   "source": [
    "Question 5"
   ]
  },
  {
   "cell_type": "code",
   "execution_count": 6,
   "id": "ff9dbebf",
   "metadata": {},
   "outputs": [
    {
     "name": "stdout",
     "output_type": "stream",
     "text": [
      "0\n",
      "1\n",
      "11\n",
      "1001\n"
     ]
    }
   ],
   "source": [
    "def binary(n):\n",
    "    if n == 0:\n",
    "        return '0'\n",
    "    elif n == 1:\n",
    "        return '1'\n",
    "    else:\n",
    "        return binary(n // 2) + str(n % 2)\n",
    "\n",
    "print(binary(0))\n",
    "print(binary(1))\n",
    "print(binary(3))\n",
    "print(binary(9))"
   ]
  },
  {
   "cell_type": "markdown",
   "id": "efacb246",
   "metadata": {},
   "source": [
    "Question 6"
   ]
  },
  {
   "cell_type": "code",
   "execution_count": 9,
   "id": "03f6aa9a",
   "metadata": {},
   "outputs": [
    {
     "name": "stdout",
     "output_type": "stream",
     "text": [
      "W3C Mission \n",
      " Principles \n"
     ]
    }
   ],
   "source": [
    "from html.parser import HTMLParser\n",
    "\n",
    "class HeadingParser(HTMLParser):\n",
    "    def __init__(self):\n",
    "        super().__init__()\n",
    "        self.level = 0\n",
    "        self.headings = []\n",
    "\n",
    "    def handle_starttag(self, tag, attrs):\n",
    "        if tag.startswith('h') and len(tag) == 2:\n",
    "            self.level = int(tag[1])\n",
    "            self.headings.append('')\n",
    "    \n",
    "    def handle_endtag(self, tag):\n",
    "        if tag.startswith('h') and len(tag) == 2:\n",
    "            if self.headings[-1]:\n",
    "                print(' '*(self.level-1) + self.headings[-1])\n",
    "            self.headings.pop()\n",
    "            self.level = max(0, self.level-1)\n",
    "    \n",
    "    def handle_data(self, data):\n",
    "        if self.headings and data.strip():\n",
    "            self.headings[-1] += data.strip() + ' '\n",
    "\n",
    "infile = open('w3c.html')\n",
    "content = infile.read()\n",
    "infile.close()\n",
    "hp = HeadingParser()\n",
    "hp.feed(content)"
   ]
  },
  {
   "cell_type": "markdown",
   "id": "cd299c6b",
   "metadata": {},
   "source": [
    "Question 7"
   ]
  },
  {
   "cell_type": "code",
   "execution_count": 7,
   "id": "ad51025d",
   "metadata": {},
   "outputs": [
    {
     "name": "stdout",
     "output_type": "stream",
     "text": [
      "http://reed.cs.depaul.edu/lperkovic/csc242/test1.html\n"
     ]
    }
   ],
   "source": [
    "from urllib.request import urlopen\n",
    "from urllib.parse import urljoin\n",
    "from urllib.error import HTTPError\n",
    "from bs4 import BeautifulSoup\n",
    "\n",
    "def webdir(url, depth, indent):\n",
    "    print(' ' * indent + url)\n",
    "    if depth == 0:\n",
    "        return\n",
    "    try:\n",
    "        with urlopen(url) as response:\n",
    "            content = response.read().decode()\n",
    "            soup = BeautifulSoup(content, 'html.parser')\n",
    "            for link in soup.find_all('a'):\n",
    "                href = link.get('href')\n",
    "                if href.startswith('http'):\n",
    "                    new_url = href\n",
    "                else:\n",
    "                    new_url = urljoin(url, href)\n",
    "                try:\n",
    "                    webdir(new_url, depth - 1, indent + 4)\n",
    "                except HTTPError:\n",
    "                    pass\n",
    "    except HTTPError:\n",
    "        pass\n",
    "webdir('http://reed.cs.depaul.edu/lperkovic/csc242/test1.html', 2, 0)"
   ]
  },
  {
   "cell_type": "markdown",
   "id": "65025794",
   "metadata": {},
   "source": [
    "Question 8"
   ]
  },
  {
   "cell_type": "code",
   "execution_count": 8,
   "id": "62b5c363",
   "metadata": {},
   "outputs": [
    {
     "ename": "OperationalError",
     "evalue": "table Whether already exists",
     "output_type": "error",
     "traceback": [
      "\u001b[1;31m---------------------------------------------------------------------------\u001b[0m",
      "\u001b[1;31mOperationalError\u001b[0m                          Traceback (most recent call last)",
      "\u001b[1;32m~\\AppData\\Local\\Temp\\ipykernel_32948\\2995961078.py\u001b[0m in \u001b[0;36m<module>\u001b[1;34m\u001b[0m\n\u001b[0;32m      5\u001b[0m \u001b[0mc\u001b[0m \u001b[1;33m=\u001b[0m \u001b[0mconn\u001b[0m\u001b[1;33m.\u001b[0m\u001b[0mcursor\u001b[0m\u001b[1;33m(\u001b[0m\u001b[1;33m)\u001b[0m\u001b[1;33m\u001b[0m\u001b[1;33m\u001b[0m\u001b[0m\n\u001b[0;32m      6\u001b[0m \u001b[1;33m\u001b[0m\u001b[0m\n\u001b[1;32m----> 7\u001b[1;33m c.execute('''\n\u001b[0m\u001b[0;32m      8\u001b[0m CREATE TABLE Whether (\n\u001b[0;32m      9\u001b[0m     \u001b[0mCity\u001b[0m \u001b[0mTEXT\u001b[0m\u001b[1;33m,\u001b[0m\u001b[1;33m\u001b[0m\u001b[1;33m\u001b[0m\u001b[0m\n",
      "\u001b[1;31mOperationalError\u001b[0m: table Whether already exists"
     ]
    }
   ],
   "source": [
    "import sqlite3\n",
    "\n",
    "conn = sqlite3.connect('Whether.db')\n",
    "\n",
    "c = conn.cursor()\n",
    "\n",
    "c.execute('''\n",
    "CREATE TABLE Whether (\n",
    "    City TEXT,\n",
    "    Country TEXT,\n",
    "    Season TEXT,\n",
    "    Temperature FLOAT,\n",
    "    Rainfall FLOAT\n",
    ")\n",
    "''')\n",
    "\n",
    "c.execute(\"INSERT INTO Whether VALUES ('Mumbai','India','Winter',24.8,5.9)\")\n",
    "c.execute(\"INSERT INTO Whether VALUES ('Mumbai','India','Spring',28.4,16.2)\")\n",
    "c.execute(\"INSERT INTO Whether VALUES ('Mumbai','India','Summer',27.9,1549.4)\")\n",
    "c.execute(\"INSERT INTO Whether VALUES ('Mumbai','India','Fall',27.6,346.0)\")\n",
    "c.execute(\"INSERT INTO Whether VALUES ('London','United kingdom','Winter',4.2,207.7)\")\n",
    "c.execute(\"INSERT INTO Whether VALUES ('London','United kingdom','Spring',8.3,169.6)\")\n",
    "c.execute(\"INSERT INTO Whether VALUES ('London','United kingdom','Summer',15.7,157.0)\")\n",
    "c.execute(\"INSERT INTO Whether VALUES ('London','United kingdom','Fall',10.4,218.5)\")\n",
    "c.execute(\"INSERT INTO Whether VALUES ('Cairo','Egypt','Winter',13.6,16.5)\")\n",
    "c.execute(\"INSERT INTO Whether VALUES ('Cairo','Egypt','Spring',20.7,6.5)\")\n",
    "\n",
    "\n",
    "c.execute('''SELECT Temperature from Whether''')\n",
    " \n",
    "c.execute('''SELECT distinct city from Whether''')\n",
    "\n",
    "c.execute('''SELECT * FROM Whether WHERE Country = India''')\n",
    "\n",
    "c.execute('''SELECT * FROM Whether WHERE Season = Fall''')\n",
    "\n",
    "c.execute('''SELECT City, Country, Season FROM Whether WHERE Rainfall BETWEEN 200 AND 400''')\n",
    "\n",
    "c.execute('''SELECT City, Country FROM Whether WHERE Season = 'Fall' AND Temperature > 20 ORDER BY Temperature ASC''')\n",
    "\n",
    "c.execute('''SELECT SUM(Rainfall) AS total_rainfall FROM Whether WHERE City = Cairo''')\n",
    "\n",
    "c.execute('''SELECT Season, SUM(Rainfall) AS total_rainfall FROM Whether GROUP BY Season''')\n",
    "\n",
    "results = c.fetchall()\n",
    "for row in results:\n",
    "    print(row)\n",
    "\n",
    "conn.close()"
   ]
  },
  {
   "cell_type": "markdown",
   "id": "fcf097d3",
   "metadata": {},
   "source": [
    "Question 9"
   ]
  },
  {
   "cell_type": "code",
   "execution_count": 8,
   "id": "fc8f46ef",
   "metadata": {},
   "outputs": [
    {
     "name": "stdout",
     "output_type": "stream",
     "text": [
      "['THE', 'QUICK', 'BROWN', 'FOX', 'JUMPS', 'OVER', 'THE', 'LAZY', 'DOG']\n",
      "['the', 'quick', 'brown', 'fox', 'jumps', 'over', 'the', 'lazy', 'dog']\n",
      "[3, 5, 5, 3, 5, 4, 3, 4, 3]\n",
      "[['THE', 'the', 3], ['QUICK', 'quick', 5], ['BROWN', 'brown', 5], ['FOX', 'fox', 3], ['JUMPS', 'jumps', 5], ['OVER', 'over', 4], ['THE', 'the', 3], ['LAZY', 'lazy', 4], ['DOG', 'dog', 3]]\n",
      "['quick', 'brown', 'jumps', 'over', 'lazy']\n"
     ]
    }
   ],
   "source": [
    "words = ['The', 'quick', 'brown', 'fox', 'jumps', 'over', 'the', 'lazy', 'dog']\n",
    "\n",
    "print([x.upper() for x in words])\n",
    "\n",
    "print([x.lower() for x in words])\n",
    "\n",
    "print([len(x) for x in words])\n",
    "\n",
    "print([[x.upper(),x.lower(),len(x)] for x in words])\n",
    "\n",
    "print([x for x in words if len(x)>=4])"
   ]
  }
 ],
 "metadata": {
  "kernelspec": {
   "display_name": "Python 3 (ipykernel)",
   "language": "python",
   "name": "python3"
  },
  "language_info": {
   "codemirror_mode": {
    "name": "ipython",
    "version": 3
   },
   "file_extension": ".py",
   "mimetype": "text/x-python",
   "name": "python",
   "nbconvert_exporter": "python",
   "pygments_lexer": "ipython3",
   "version": "3.9.13"
  }
 },
 "nbformat": 4,
 "nbformat_minor": 5
}
